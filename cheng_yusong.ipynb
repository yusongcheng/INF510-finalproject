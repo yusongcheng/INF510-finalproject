{
 "cells": [
  {
   "cell_type": "markdown",
   "metadata": {},
   "source": [
    "### INF 510 Fall 2019 Final Project Submission"
   ]
  },
  {
   "cell_type": "markdown",
   "metadata": {},
   "source": [
    "1.\t**The name of student**:\n",
    "\n",
    "    Yusong Cheng (only one)"
   ]
  },
  {
   "cell_type": "markdown",
   "metadata": {},
   "source": [
    "2.\t**How to run your code (what command-line switches they are, what happens when you invoke the code, etc.)**\n",
    "\n",
    "    You can get the clean data used in this notebook analysis simply from data subfolder where the data sets have existed already,\n",
    "    \n",
    "    or you can run the cheng_yusong_hw_5.py file to get the data sets from Internet.\n",
    "    \n",
    "    To do so, using command-line: python src/cheng_yusong_hw_5 source=remote \n",
    "    \n",
    "    ,then datasets will be stored in data subfolder\n",
    "    \n",
    "    This project requires the following packages:\n",
    "    - pandas, numpy, seaborn, requests and beautifulsoup\n",
    "    To run this project, make sure the above packages are installed, and then simply clone the repo at https://github.com/yusongcheng/INF510-finalproject and execute this notebook\n"
   ]
  },
  {
   "cell_type": "markdown",
   "metadata": {},
   "source": [
    "3.\t**Any major “gotchas” to the code (i.e. things that don’t work, go slowly, could be improved, etc.)**\n",
    "    \n",
    "    The first should be it takes more than 10 minutes to scrape datasets from websites.\n",
    "    \n",
    "    Secondly, I think the integrated information table can be displayed in the form of scatter plots, so that each point's label can provide a variety of information, such as the restaurant's address, price, rating, weather, etc. But because there are too many points, and there are many labels for each point, I have no good way to display it. All I can do is display a table, and this could be improved visually by a certain way.\n"
   ]
  },
  {
   "cell_type": "markdown",
   "metadata": {},
   "source": [
    "4.  **Anything else you feel is relevant to the grading of your project your project.**\n",
    "\n",
    "    The structure of my project is not very clear. I think I should summarize what I've done.\n",
    "    My data is about restaurant prices, scores, taxes and weather. So I thought they were more or less related. However, I did a regression analysis and found that they were almost completely unrelated. This made me think that the research seemed to fail, so I did some statistical analysis on restaurants later. And I aggregated all the information so that it can help those looking for the ideal restaurant for dinner."
   ]
  },
  {
   "cell_type": "markdown",
   "metadata": {},
   "source": [
    "5. **What did you set out to study?  (i.e. what was the point of your project?  This should be close to your Milestone 1 assignment, but if you switched gears or changed things, note it here.)**\n",
    "\n",
    "   As I mentioned in the last question. The point of my project is to figure out whether there is a relationship between restaurants price, scores, tax and weather condition in corresponding zipcode area. But after I did some regression analysis on the data sets, I found each one does not correlate the others. \n",
    "\n",
    "   Then, I wanted to know the percentage of restaurants in each price and scores level.\n",
    "\n",
    "   Also, I wanted to know what the average weather condition and tax are in these price and score level."
   ]
  },
  {
   "cell_type": "markdown",
   "metadata": {},
   "source": [
    "6. **What did you Discover/what were your conclusions (i.e. what were your findings?  Were your original assumptions confirmed, etc.?)**\n",
    "\n",
    "   My original assumption was there is at least one or two significant positive or negative correlation between these attributes of restaurants. \n",
    "   \n",
    "   At least I used to think that restaurants with higher price levels would be definitely scored higher, and the average price level should be higher in the area with higher tax. But it seemed I was wrong.\n",
    "   \n",
    "   As the results showed, the R^2 of them are:\n",
    "   \n",
    "   price and scores : -0.1635382777268607\n",
    "   \n",
    "   tax and scores : 0.08513519185920122\n",
    "   \n",
    "   weather suitability and price : -0.046926757767768966\n",
    "   \n",
    "   weather suitability and scores : 0.02464296647255796\n",
    "   \n",
    "   So, the conclusion is that there is no significant positive or negative correlation at all due to the low R^2\n",
    "   \n",
    "   Then I did the statistical analysis of price and scores and conclude:\n",
    "   \n",
    "   1. Almost half of the restaurants in LA county are level 2 regarding price\n",
    "   \n",
    "   2. Most scores of the restaurants fall into the range from3.0 to 4.0\n",
    "   \n",
    "   Few of them are scored highly or lowly.\n",
    "   \n",
    "   You can see the pie charts below.\n",
    "   \n",
    "   Finally, the average tax and weather condition of each price and scores level are similar.\n",
    "   \n",
    "   You can see the bar charts below."
   ]
  },
  {
   "cell_type": "markdown",
   "metadata": {},
   "source": [
    "7. **What difficulties did you have in completing the project?**  \n",
    "\n",
    "    The most difficult part must be scrape the restaurant information data from Tableagent website, because the structure of the web page is complicated. I failed many times and I needed to wait for awhile every time.\n",
    "    "
   ]
  },
  {
   "cell_type": "markdown",
   "metadata": {},
   "source": [
    "8. **What skills did you wish you had while you were doing the project?**\n",
    "\n",
    "   In this project, the skill I would most like to have is to visualize the last information I collected, including weather, tax and restaurant information for each postal code area. \n",
    "   \n",
    "   I mean, I want to show this data through a map. For example, they are displayed on the map according to the location of each restaurant, and each point can display the data I collected.\n"
   ]
  },
  {
   "cell_type": "markdown",
   "metadata": {},
   "source": [
    "9. **What would you do “next” to expand or augment the project?**\n",
    "\n",
    "    If I can make what I mentioned in question 8,\n",
    "    \n",
    "    I can completely visualize my data. In this way, I will be able to spatially show you the popular restaurants in LA county, the tax of the area where they are located, the current weather, etc. \n",
    "    \n",
    "    And I can even include more data set like the average hotel price, density of tourism attractions, etc so that this map can help those who are looking for restaurants or travel in LA county by providing sufficient information."
   ]
  },
  {
   "cell_type": "code",
   "execution_count": 13,
   "metadata": {},
   "outputs": [],
   "source": [
    "import pandas as pd\n",
    "from bs4 import BeautifulSoup\n",
    "import seaborn as sns\n",
    "import matplotlib.pyplot as plt\n",
    "import numpy as np"
   ]
  },
  {
   "cell_type": "code",
   "execution_count": 14,
   "metadata": {},
   "outputs": [],
   "source": [
    "# Read in the three data sets\n",
    "\n",
    "res_info = pd.read_csv('data/restaurant_info.csv')\n",
    "tax_info = pd.read_csv('data/tax_info.csv')\n",
    "weather_info = pd.read_csv('data/weather_info.csv')"
   ]
  },
  {
   "cell_type": "code",
   "execution_count": null,
   "metadata": {},
   "outputs": [],
   "source": [
    "#Take a look of the columns"
   ]
  },
  {
   "cell_type": "code",
   "execution_count": 15,
   "metadata": {},
   "outputs": [
    {
     "data": {
      "text/html": [
       "<div>\n",
       "<style scoped>\n",
       "    .dataframe tbody tr th:only-of-type {\n",
       "        vertical-align: middle;\n",
       "    }\n",
       "\n",
       "    .dataframe tbody tr th {\n",
       "        vertical-align: top;\n",
       "    }\n",
       "\n",
       "    .dataframe thead th {\n",
       "        text-align: right;\n",
       "    }\n",
       "</style>\n",
       "<table border=\"1\" class=\"dataframe\">\n",
       "  <thead>\n",
       "    <tr style=\"text-align: right;\">\n",
       "      <th></th>\n",
       "      <th>res_name</th>\n",
       "      <th>res_streetaddress</th>\n",
       "      <th>res_locality</th>\n",
       "      <th>zipcode</th>\n",
       "      <th>res_price</th>\n",
       "      <th>res_stars</th>\n",
       "    </tr>\n",
       "  </thead>\n",
       "  <tbody>\n",
       "    <tr>\n",
       "      <th>0</th>\n",
       "      <td>Polo Lounge</td>\n",
       "      <td>9641 Sunset Boulevard</td>\n",
       "      <td>Beverly Hills</td>\n",
       "      <td>90210</td>\n",
       "      <td>2</td>\n",
       "      <td>3.0</td>\n",
       "    </tr>\n",
       "    <tr>\n",
       "      <th>1</th>\n",
       "      <td>Amici</td>\n",
       "      <td>469 N. Doheny Drive</td>\n",
       "      <td>Beverly Hills</td>\n",
       "      <td>90210</td>\n",
       "      <td>2</td>\n",
       "      <td>3.5</td>\n",
       "    </tr>\n",
       "    <tr>\n",
       "      <th>2</th>\n",
       "      <td>La Scala</td>\n",
       "      <td>434 North Canon Drive</td>\n",
       "      <td>Beverly Hills</td>\n",
       "      <td>90210</td>\n",
       "      <td>2</td>\n",
       "      <td>4.0</td>\n",
       "    </tr>\n",
       "    <tr>\n",
       "      <th>3</th>\n",
       "      <td>Da Pasquale</td>\n",
       "      <td>9749 Santa Monica Boulevard</td>\n",
       "      <td>Beverly Hills</td>\n",
       "      <td>90210</td>\n",
       "      <td>2</td>\n",
       "      <td>3.5</td>\n",
       "    </tr>\n",
       "    <tr>\n",
       "      <th>4</th>\n",
       "      <td>Matsuhisa</td>\n",
       "      <td>129 North La Cienega Blvd.</td>\n",
       "      <td>Beverly Hills</td>\n",
       "      <td>90211</td>\n",
       "      <td>4</td>\n",
       "      <td>4.0</td>\n",
       "    </tr>\n",
       "  </tbody>\n",
       "</table>\n",
       "</div>"
      ],
      "text/plain": [
       "      res_name            res_streetaddress   res_locality  zipcode  \\\n",
       "0  Polo Lounge        9641 Sunset Boulevard  Beverly Hills    90210   \n",
       "1        Amici          469 N. Doheny Drive  Beverly Hills    90210   \n",
       "2     La Scala        434 North Canon Drive  Beverly Hills    90210   \n",
       "3  Da Pasquale  9749 Santa Monica Boulevard  Beverly Hills    90210   \n",
       "4    Matsuhisa   129 North La Cienega Blvd.  Beverly Hills    90211   \n",
       "\n",
       "   res_price  res_stars  \n",
       "0          2        3.0  \n",
       "1          2        3.5  \n",
       "2          2        4.0  \n",
       "3          2        3.5  \n",
       "4          4        4.0  "
      ]
     },
     "execution_count": 15,
     "metadata": {},
     "output_type": "execute_result"
    }
   ],
   "source": [
    "res_info.head()"
   ]
  },
  {
   "cell_type": "code",
   "execution_count": 18,
   "metadata": {},
   "outputs": [
    {
     "data": {
      "text/html": [
       "<div>\n",
       "<style scoped>\n",
       "    .dataframe tbody tr th:only-of-type {\n",
       "        vertical-align: middle;\n",
       "    }\n",
       "\n",
       "    .dataframe tbody tr th {\n",
       "        vertical-align: top;\n",
       "    }\n",
       "\n",
       "    .dataframe thead th {\n",
       "        text-align: right;\n",
       "    }\n",
       "</style>\n",
       "<table border=\"1\" class=\"dataframe\">\n",
       "  <thead>\n",
       "    <tr style=\"text-align: right;\">\n",
       "      <th></th>\n",
       "      <th>zipcode</th>\n",
       "      <th>tax</th>\n",
       "      <th>combine-tax</th>\n",
       "    </tr>\n",
       "  </thead>\n",
       "  <tbody>\n",
       "    <tr>\n",
       "      <th>0</th>\n",
       "      <td>95220</td>\n",
       "      <td>['7.75% (Combined)', '6% (State)', '0.25% (Cou...</td>\n",
       "      <td>0.0775</td>\n",
       "    </tr>\n",
       "    <tr>\n",
       "      <th>1</th>\n",
       "      <td>93510</td>\n",
       "      <td>['9.5% (Combined)', '6% (State)', '0.25% (Coun...</td>\n",
       "      <td>0.0950</td>\n",
       "    </tr>\n",
       "    <tr>\n",
       "      <th>2</th>\n",
       "      <td>92301</td>\n",
       "      <td>['7.75% (Combined)', '6% (State)', '0.25% (Cou...</td>\n",
       "      <td>0.0775</td>\n",
       "    </tr>\n",
       "    <tr>\n",
       "      <th>3</th>\n",
       "      <td>96006</td>\n",
       "      <td>['7.25% (Combined)', '6% (State)', '0.25% (Cou...</td>\n",
       "      <td>0.0725</td>\n",
       "    </tr>\n",
       "    <tr>\n",
       "      <th>4</th>\n",
       "      <td>91301</td>\n",
       "      <td>['9.5% (Combined)', '6% (State)', '0.25% (Coun...</td>\n",
       "      <td>0.0950</td>\n",
       "    </tr>\n",
       "  </tbody>\n",
       "</table>\n",
       "</div>"
      ],
      "text/plain": [
       "   zipcode                                                tax  combine-tax\n",
       "0    95220  ['7.75% (Combined)', '6% (State)', '0.25% (Cou...       0.0775\n",
       "1    93510  ['9.5% (Combined)', '6% (State)', '0.25% (Coun...       0.0950\n",
       "2    92301  ['7.75% (Combined)', '6% (State)', '0.25% (Cou...       0.0775\n",
       "3    96006  ['7.25% (Combined)', '6% (State)', '0.25% (Cou...       0.0725\n",
       "4    91301  ['9.5% (Combined)', '6% (State)', '0.25% (Coun...       0.0950"
      ]
     },
     "execution_count": 18,
     "metadata": {},
     "output_type": "execute_result"
    }
   ],
   "source": [
    "#add a new column\n",
    "temp = []\n",
    "for each in tax_info['tax']:\n",
    "    temp.append(float(each.strip('[').strip(']').strip(\"'\").split()[0].strip('%'))/100)\n",
    "tax_info['combine-tax']=temp\n",
    "tax_info.head()"
   ]
  },
  {
   "cell_type": "code",
   "execution_count": 17,
   "metadata": {},
   "outputs": [
    {
     "data": {
      "text/html": [
       "<div>\n",
       "<style scoped>\n",
       "    .dataframe tbody tr th:only-of-type {\n",
       "        vertical-align: middle;\n",
       "    }\n",
       "\n",
       "    .dataframe tbody tr th {\n",
       "        vertical-align: top;\n",
       "    }\n",
       "\n",
       "    .dataframe thead th {\n",
       "        text-align: right;\n",
       "    }\n",
       "</style>\n",
       "<table border=\"1\" class=\"dataframe\">\n",
       "  <thead>\n",
       "    <tr style=\"text-align: right;\">\n",
       "      <th></th>\n",
       "      <th>zipcode</th>\n",
       "      <th>weather</th>\n",
       "      <th>temperature</th>\n",
       "      <th>pressure</th>\n",
       "      <th>humidity</th>\n",
       "      <th>visibility</th>\n",
       "      <th>wind_speed</th>\n",
       "      <th>clouds</th>\n",
       "    </tr>\n",
       "  </thead>\n",
       "  <tbody>\n",
       "    <tr>\n",
       "      <th>0</th>\n",
       "      <td>90057</td>\n",
       "      <td>Clouds</td>\n",
       "      <td>284.60</td>\n",
       "      <td>1021</td>\n",
       "      <td>87</td>\n",
       "      <td>16093</td>\n",
       "      <td>0.37</td>\n",
       "      <td>90</td>\n",
       "    </tr>\n",
       "    <tr>\n",
       "      <th>1</th>\n",
       "      <td>91104</td>\n",
       "      <td>Clear</td>\n",
       "      <td>284.53</td>\n",
       "      <td>1021</td>\n",
       "      <td>62</td>\n",
       "      <td>16093</td>\n",
       "      <td>0.49</td>\n",
       "      <td>1</td>\n",
       "    </tr>\n",
       "    <tr>\n",
       "      <th>2</th>\n",
       "      <td>92236</td>\n",
       "      <td>Clear</td>\n",
       "      <td>281.80</td>\n",
       "      <td>1020</td>\n",
       "      <td>81</td>\n",
       "      <td>16093</td>\n",
       "      <td>2.60</td>\n",
       "      <td>1</td>\n",
       "    </tr>\n",
       "    <tr>\n",
       "      <th>3</th>\n",
       "      <td>90291</td>\n",
       "      <td>Mist</td>\n",
       "      <td>284.82</td>\n",
       "      <td>1021</td>\n",
       "      <td>93</td>\n",
       "      <td>2414</td>\n",
       "      <td>1.50</td>\n",
       "      <td>40</td>\n",
       "    </tr>\n",
       "    <tr>\n",
       "      <th>4</th>\n",
       "      <td>90804</td>\n",
       "      <td>Rain</td>\n",
       "      <td>284.59</td>\n",
       "      <td>1021</td>\n",
       "      <td>87</td>\n",
       "      <td>16093</td>\n",
       "      <td>0.49</td>\n",
       "      <td>90</td>\n",
       "    </tr>\n",
       "  </tbody>\n",
       "</table>\n",
       "</div>"
      ],
      "text/plain": [
       "   zipcode weather  temperature  pressure  humidity  visibility  wind_speed  \\\n",
       "0    90057  Clouds       284.60      1021        87       16093        0.37   \n",
       "1    91104   Clear       284.53      1021        62       16093        0.49   \n",
       "2    92236   Clear       281.80      1020        81       16093        2.60   \n",
       "3    90291    Mist       284.82      1021        93        2414        1.50   \n",
       "4    90804    Rain       284.59      1021        87       16093        0.49   \n",
       "\n",
       "   clouds  \n",
       "0      90  \n",
       "1       1  \n",
       "2       1  \n",
       "3      40  \n",
       "4      90  "
      ]
     },
     "execution_count": 17,
     "metadata": {},
     "output_type": "execute_result"
    }
   ],
   "source": [
    "weather_info.head()"
   ]
  },
  {
   "cell_type": "code",
   "execution_count": 19,
   "metadata": {},
   "outputs": [],
   "source": [
    "#The first data set contains information of many restaurants in LA county \n",
    "#like price level, stars(or scores), location and so on\n",
    "\n",
    "#Get the average price level and stars(or scores) for each zip code.\n",
    "mean_price_stars_per_zipcode = res_info.groupby(res_info['zipcode']).mean()\n",
    "mean_price_stars_per_zipcode.reset_index(inplace=True)"
   ]
  },
  {
   "cell_type": "code",
   "execution_count": 20,
   "metadata": {},
   "outputs": [
    {
     "data": {
      "text/html": [
       "<div>\n",
       "<style scoped>\n",
       "    .dataframe tbody tr th:only-of-type {\n",
       "        vertical-align: middle;\n",
       "    }\n",
       "\n",
       "    .dataframe tbody tr th {\n",
       "        vertical-align: top;\n",
       "    }\n",
       "\n",
       "    .dataframe thead th {\n",
       "        text-align: right;\n",
       "    }\n",
       "</style>\n",
       "<table border=\"1\" class=\"dataframe\">\n",
       "  <thead>\n",
       "    <tr style=\"text-align: right;\">\n",
       "      <th></th>\n",
       "      <th>zipcode</th>\n",
       "      <th>res_price</th>\n",
       "      <th>res_stars</th>\n",
       "    </tr>\n",
       "  </thead>\n",
       "  <tbody>\n",
       "    <tr>\n",
       "      <th>0</th>\n",
       "      <td>90005</td>\n",
       "      <td>2.0</td>\n",
       "      <td>3.50</td>\n",
       "    </tr>\n",
       "    <tr>\n",
       "      <th>1</th>\n",
       "      <td>90006</td>\n",
       "      <td>2.0</td>\n",
       "      <td>3.00</td>\n",
       "    </tr>\n",
       "    <tr>\n",
       "      <th>2</th>\n",
       "      <td>90007</td>\n",
       "      <td>1.5</td>\n",
       "      <td>3.25</td>\n",
       "    </tr>\n",
       "    <tr>\n",
       "      <th>3</th>\n",
       "      <td>90010</td>\n",
       "      <td>2.0</td>\n",
       "      <td>3.50</td>\n",
       "    </tr>\n",
       "    <tr>\n",
       "      <th>4</th>\n",
       "      <td>90012</td>\n",
       "      <td>2.4</td>\n",
       "      <td>3.50</td>\n",
       "    </tr>\n",
       "  </tbody>\n",
       "</table>\n",
       "</div>"
      ],
      "text/plain": [
       "   zipcode  res_price  res_stars\n",
       "0    90005        2.0       3.50\n",
       "1    90006        2.0       3.00\n",
       "2    90007        1.5       3.25\n",
       "3    90010        2.0       3.50\n",
       "4    90012        2.4       3.50"
      ]
     },
     "execution_count": 20,
     "metadata": {},
     "output_type": "execute_result"
    }
   ],
   "source": [
    "mean_price_stars_per_zipcode.head()"
   ]
  },
  {
   "cell_type": "code",
   "execution_count": 21,
   "metadata": {},
   "outputs": [
    {
     "data": {
      "text/plain": [
       "<seaborn.axisgrid.FacetGrid at 0x1a243485f8>"
      ]
     },
     "execution_count": 21,
     "metadata": {},
     "output_type": "execute_result"
    },
    {
     "data": {
      "image/png": "[encoded data removed]",
      "text/plain": [
       "<Figure size 360x360 with 1 Axes>"
      ]
     },
     "metadata": {
      "needs_background": "light"
     },
     "output_type": "display_data"
    }
   ],
   "source": [
    "#Trying to figure out whether the price correlates the scores\n",
    "#Get the regression line\n",
    "sns.lmplot(x='res_stars', y='res_price', data=mean_price_stars_per_zipcode, fit_reg=True)"
   ]
  },
  {
   "cell_type": "code",
   "execution_count": 93,
   "metadata": {},
   "outputs": [],
   "source": [
    "#It seems there is no significantly negative or positive relationship at all, let's get the R^2 then."
   ]
  },
  {
   "cell_type": "code",
   "execution_count": 22,
   "metadata": {},
   "outputs": [
    {
     "data": {
      "text/plain": [
       "-0.1635382777268607"
      ]
     },
     "execution_count": 22,
     "metadata": {},
     "output_type": "execute_result"
    }
   ],
   "source": [
    "# Get the R squared value\n",
    "mean_price_stars_per_zipcode['res_price'].corr(mean_price_stars_per_zipcode['res_stars'])"
   ]
  },
  {
   "cell_type": "code",
   "execution_count": 94,
   "metadata": {},
   "outputs": [],
   "source": [
    "# We can conclude that price and scores of restaurants in LA county has a slight negative relationship.\n",
    "# R squared value is very low, which can be considered no relationship.\n",
    "\n",
    "# Then, I want to figure out whether the tax influence the price of restaurants...if there is a relationship..."
   ]
  },
  {
   "cell_type": "code",
   "execution_count": 23,
   "metadata": {},
   "outputs": [
    {
     "data": {
      "text/html": [
       "<div>\n",
       "<style scoped>\n",
       "    .dataframe tbody tr th:only-of-type {\n",
       "        vertical-align: middle;\n",
       "    }\n",
       "\n",
       "    .dataframe tbody tr th {\n",
       "        vertical-align: top;\n",
       "    }\n",
       "\n",
       "    .dataframe thead th {\n",
       "        text-align: right;\n",
       "    }\n",
       "</style>\n",
       "<table border=\"1\" class=\"dataframe\">\n",
       "  <thead>\n",
       "    <tr style=\"text-align: right;\">\n",
       "      <th></th>\n",
       "      <th>zipcode</th>\n",
       "      <th>res_price</th>\n",
       "      <th>res_stars</th>\n",
       "      <th>tax</th>\n",
       "      <th>combine-tax</th>\n",
       "    </tr>\n",
       "  </thead>\n",
       "  <tbody>\n",
       "    <tr>\n",
       "      <th>0</th>\n",
       "      <td>90005</td>\n",
       "      <td>2.0</td>\n",
       "      <td>3.50</td>\n",
       "      <td>['9.5% (Combined)', '6% (State)', '0.25% (Coun...</td>\n",
       "      <td>0.095</td>\n",
       "    </tr>\n",
       "    <tr>\n",
       "      <th>1</th>\n",
       "      <td>90006</td>\n",
       "      <td>2.0</td>\n",
       "      <td>3.00</td>\n",
       "      <td>['9.5% (Combined)', '6% (State)', '0.25% (Coun...</td>\n",
       "      <td>0.095</td>\n",
       "    </tr>\n",
       "    <tr>\n",
       "      <th>2</th>\n",
       "      <td>90007</td>\n",
       "      <td>1.5</td>\n",
       "      <td>3.25</td>\n",
       "      <td>['9.5% (Combined)', '6% (State)', '0.25% (Coun...</td>\n",
       "      <td>0.095</td>\n",
       "    </tr>\n",
       "    <tr>\n",
       "      <th>3</th>\n",
       "      <td>90010</td>\n",
       "      <td>2.0</td>\n",
       "      <td>3.50</td>\n",
       "      <td>['9.5% (Combined)', '6% (State)', '0.25% (Coun...</td>\n",
       "      <td>0.095</td>\n",
       "    </tr>\n",
       "    <tr>\n",
       "      <th>4</th>\n",
       "      <td>90012</td>\n",
       "      <td>2.4</td>\n",
       "      <td>3.50</td>\n",
       "      <td>['9.5% (Combined)', '6% (State)', '0.25% (Coun...</td>\n",
       "      <td>0.095</td>\n",
       "    </tr>\n",
       "  </tbody>\n",
       "</table>\n",
       "</div>"
      ],
      "text/plain": [
       "   zipcode  res_price  res_stars  \\\n",
       "0    90005        2.0       3.50   \n",
       "1    90006        2.0       3.00   \n",
       "2    90007        1.5       3.25   \n",
       "3    90010        2.0       3.50   \n",
       "4    90012        2.4       3.50   \n",
       "\n",
       "                                                 tax  combine-tax  \n",
       "0  ['9.5% (Combined)', '6% (State)', '0.25% (Coun...        0.095  \n",
       "1  ['9.5% (Combined)', '6% (State)', '0.25% (Coun...        0.095  \n",
       "2  ['9.5% (Combined)', '6% (State)', '0.25% (Coun...        0.095  \n",
       "3  ['9.5% (Combined)', '6% (State)', '0.25% (Coun...        0.095  \n",
       "4  ['9.5% (Combined)', '6% (State)', '0.25% (Coun...        0.095  "
      ]
     },
     "execution_count": 23,
     "metadata": {},
     "output_type": "execute_result"
    }
   ],
   "source": [
    "#Join the second data set of tax information with restaurant table\n",
    "res_tax = pd.merge(mean_price_stars_per_zipcode, tax_info, how='left', on='zipcode')\n",
    "#Take a look\n",
    "res_tax.head()"
   ]
  },
  {
   "cell_type": "code",
   "execution_count": null,
   "metadata": {},
   "outputs": [],
   "source": [
    "#Similarly, I will get the regression line and R^2."
   ]
  },
  {
   "cell_type": "code",
   "execution_count": 24,
   "metadata": {},
   "outputs": [
    {
     "data": {
      "text/plain": [
       "<seaborn.axisgrid.FacetGrid at 0x1a236877b8>"
      ]
     },
     "execution_count": 24,
     "metadata": {},
     "output_type": "execute_result"
    },
    {
     "data": {
      "image/png": "[encoded data removed]",
      "text/plain": [
       "<Figure size 360x360 with 1 Axes>"
      ]
     },
     "metadata": {
      "needs_background": "light"
     },
     "output_type": "display_data"
    }
   ],
   "source": [
    "sns.lmplot(x='res_price', y='combine-tax', data=res_tax, fit_reg=True)"
   ]
  },
  {
   "cell_type": "code",
   "execution_count": 25,
   "metadata": {},
   "outputs": [
    {
     "data": {
      "text/plain": [
       "0.08513519185920122"
      ]
     },
     "execution_count": 25,
     "metadata": {},
     "output_type": "execute_result"
    }
   ],
   "source": [
    "# Get the R squared value\n",
    "res_tax['res_price'].corr(res_tax['combine-tax'])"
   ]
  },
  {
   "cell_type": "code",
   "execution_count": 26,
   "metadata": {},
   "outputs": [
    {
     "data": {
      "text/html": [
       "<div>\n",
       "<style scoped>\n",
       "    .dataframe tbody tr th:only-of-type {\n",
       "        vertical-align: middle;\n",
       "    }\n",
       "\n",
       "    .dataframe tbody tr th {\n",
       "        vertical-align: top;\n",
       "    }\n",
       "\n",
       "    .dataframe thead th {\n",
       "        text-align: right;\n",
       "    }\n",
       "</style>\n",
       "<table border=\"1\" class=\"dataframe\">\n",
       "  <thead>\n",
       "    <tr style=\"text-align: right;\">\n",
       "      <th></th>\n",
       "      <th>zipcode</th>\n",
       "      <th>humidity</th>\n",
       "      <th>wind_speed</th>\n",
       "    </tr>\n",
       "  </thead>\n",
       "  <tbody>\n",
       "    <tr>\n",
       "      <th>0</th>\n",
       "      <td>90057</td>\n",
       "      <td>87</td>\n",
       "      <td>0.37</td>\n",
       "    </tr>\n",
       "    <tr>\n",
       "      <th>1</th>\n",
       "      <td>91104</td>\n",
       "      <td>62</td>\n",
       "      <td>0.49</td>\n",
       "    </tr>\n",
       "    <tr>\n",
       "      <th>2</th>\n",
       "      <td>92236</td>\n",
       "      <td>81</td>\n",
       "      <td>2.60</td>\n",
       "    </tr>\n",
       "    <tr>\n",
       "      <th>3</th>\n",
       "      <td>90291</td>\n",
       "      <td>93</td>\n",
       "      <td>1.50</td>\n",
       "    </tr>\n",
       "    <tr>\n",
       "      <th>4</th>\n",
       "      <td>90804</td>\n",
       "      <td>87</td>\n",
       "      <td>0.49</td>\n",
       "    </tr>\n",
       "  </tbody>\n",
       "</table>\n",
       "</div>"
      ],
      "text/plain": [
       "   zipcode  humidity  wind_speed\n",
       "0    90057        87        0.37\n",
       "1    91104        62        0.49\n",
       "2    92236        81        2.60\n",
       "3    90291        93        1.50\n",
       "4    90804        87        0.49"
      ]
     },
     "execution_count": 26,
     "metadata": {},
     "output_type": "execute_result"
    }
   ],
   "source": [
    "# So, the result is tax cannot influence the price level of restaurants at all,\n",
    "# Because R^2 is so low, which means there is no relationship...\n",
    "\n",
    "# But I guess perhaps weather could influce the price or scores of restaurant...\n",
    "# Take a look of the weather data\n",
    "weather_info[['zipcode','humidity','wind_speed']].head()"
   ]
  },
  {
   "cell_type": "code",
   "execution_count": 27,
   "metadata": {},
   "outputs": [
    {
     "data": {
      "text/html": [
       "<div>\n",
       "<style scoped>\n",
       "    .dataframe tbody tr th:only-of-type {\n",
       "        vertical-align: middle;\n",
       "    }\n",
       "\n",
       "    .dataframe tbody tr th {\n",
       "        vertical-align: top;\n",
       "    }\n",
       "\n",
       "    .dataframe thead th {\n",
       "        text-align: right;\n",
       "    }\n",
       "</style>\n",
       "<table border=\"1\" class=\"dataframe\">\n",
       "  <thead>\n",
       "    <tr style=\"text-align: right;\">\n",
       "      <th></th>\n",
       "      <th>zipcode</th>\n",
       "      <th>weather</th>\n",
       "      <th>temperature</th>\n",
       "      <th>pressure</th>\n",
       "      <th>humidity</th>\n",
       "      <th>visibility</th>\n",
       "      <th>wind_speed</th>\n",
       "      <th>clouds</th>\n",
       "      <th>suitability</th>\n",
       "    </tr>\n",
       "  </thead>\n",
       "  <tbody>\n",
       "    <tr>\n",
       "      <th>0</th>\n",
       "      <td>90057</td>\n",
       "      <td>Clouds</td>\n",
       "      <td>284.60</td>\n",
       "      <td>1021</td>\n",
       "      <td>87</td>\n",
       "      <td>16093</td>\n",
       "      <td>0.37</td>\n",
       "      <td>90</td>\n",
       "      <td>51.37</td>\n",
       "    </tr>\n",
       "    <tr>\n",
       "      <th>1</th>\n",
       "      <td>91104</td>\n",
       "      <td>Clear</td>\n",
       "      <td>284.53</td>\n",
       "      <td>1021</td>\n",
       "      <td>62</td>\n",
       "      <td>16093</td>\n",
       "      <td>0.49</td>\n",
       "      <td>1</td>\n",
       "      <td>76.49</td>\n",
       "    </tr>\n",
       "    <tr>\n",
       "      <th>2</th>\n",
       "      <td>92236</td>\n",
       "      <td>Clear</td>\n",
       "      <td>281.80</td>\n",
       "      <td>1020</td>\n",
       "      <td>81</td>\n",
       "      <td>16093</td>\n",
       "      <td>2.60</td>\n",
       "      <td>1</td>\n",
       "      <td>58.40</td>\n",
       "    </tr>\n",
       "    <tr>\n",
       "      <th>3</th>\n",
       "      <td>90291</td>\n",
       "      <td>Mist</td>\n",
       "      <td>284.82</td>\n",
       "      <td>1021</td>\n",
       "      <td>93</td>\n",
       "      <td>2414</td>\n",
       "      <td>1.50</td>\n",
       "      <td>40</td>\n",
       "      <td>46.50</td>\n",
       "    </tr>\n",
       "    <tr>\n",
       "      <th>4</th>\n",
       "      <td>90804</td>\n",
       "      <td>Rain</td>\n",
       "      <td>284.59</td>\n",
       "      <td>1021</td>\n",
       "      <td>87</td>\n",
       "      <td>16093</td>\n",
       "      <td>0.49</td>\n",
       "      <td>90</td>\n",
       "      <td>51.49</td>\n",
       "    </tr>\n",
       "  </tbody>\n",
       "</table>\n",
       "</div>"
      ],
      "text/plain": [
       "   zipcode weather  temperature  pressure  humidity  visibility  wind_speed  \\\n",
       "0    90057  Clouds       284.60      1021        87       16093        0.37   \n",
       "1    91104   Clear       284.53      1021        62       16093        0.49   \n",
       "2    92236   Clear       281.80      1020        81       16093        2.60   \n",
       "3    90291    Mist       284.82      1021        93        2414        1.50   \n",
       "4    90804    Rain       284.59      1021        87       16093        0.49   \n",
       "\n",
       "   clouds  suitability  \n",
       "0      90        51.37  \n",
       "1       1        76.49  \n",
       "2       1        58.40  \n",
       "3      40        46.50  \n",
       "4      90        51.49  "
      ]
     },
     "execution_count": 27,
     "metadata": {},
     "output_type": "execute_result"
    }
   ],
   "source": [
    "# Before doing the analysis, I need to add a suitability column into weather dataframe \n",
    "# based on wind speed and humidity\n",
    "# It is considered the most comfortable situation when the wind speed is 2 and the humidity is 40.\n",
    "# That situation is scored 100 and deviation cause point lost.\n",
    "suitability = []\n",
    "for row in weather_info.itertuples():\n",
    "    wind_lost = np.abs(float(row[7]) - 2)\n",
    "    humidity_lost = np.abs(float(row[5]) - 40)\n",
    "    suitability.append(100 - wind_lost - humidity_lost)\n",
    "weather_info['suitability'] = suitability\n",
    "weather_info.head()"
   ]
  },
  {
   "cell_type": "code",
   "execution_count": 28,
   "metadata": {},
   "outputs": [
    {
     "data": {
      "text/html": [
       "<div>\n",
       "<style scoped>\n",
       "    .dataframe tbody tr th:only-of-type {\n",
       "        vertical-align: middle;\n",
       "    }\n",
       "\n",
       "    .dataframe tbody tr th {\n",
       "        vertical-align: top;\n",
       "    }\n",
       "\n",
       "    .dataframe thead th {\n",
       "        text-align: right;\n",
       "    }\n",
       "</style>\n",
       "<table border=\"1\" class=\"dataframe\">\n",
       "  <thead>\n",
       "    <tr style=\"text-align: right;\">\n",
       "      <th></th>\n",
       "      <th>zipcode</th>\n",
       "      <th>res_price</th>\n",
       "      <th>res_stars</th>\n",
       "      <th>suitability</th>\n",
       "    </tr>\n",
       "  </thead>\n",
       "  <tbody>\n",
       "    <tr>\n",
       "      <th>0</th>\n",
       "      <td>90005</td>\n",
       "      <td>2.0</td>\n",
       "      <td>3.50</td>\n",
       "      <td>46.50</td>\n",
       "    </tr>\n",
       "    <tr>\n",
       "      <th>1</th>\n",
       "      <td>90006</td>\n",
       "      <td>2.0</td>\n",
       "      <td>3.00</td>\n",
       "      <td>46.50</td>\n",
       "    </tr>\n",
       "    <tr>\n",
       "      <th>2</th>\n",
       "      <td>90007</td>\n",
       "      <td>1.5</td>\n",
       "      <td>3.25</td>\n",
       "      <td>76.37</td>\n",
       "    </tr>\n",
       "    <tr>\n",
       "      <th>3</th>\n",
       "      <td>90010</td>\n",
       "      <td>2.0</td>\n",
       "      <td>3.50</td>\n",
       "      <td>51.37</td>\n",
       "    </tr>\n",
       "    <tr>\n",
       "      <th>4</th>\n",
       "      <td>90012</td>\n",
       "      <td>2.4</td>\n",
       "      <td>3.50</td>\n",
       "      <td>76.49</td>\n",
       "    </tr>\n",
       "  </tbody>\n",
       "</table>\n",
       "</div>"
      ],
      "text/plain": [
       "   zipcode  res_price  res_stars  suitability\n",
       "0    90005        2.0       3.50        46.50\n",
       "1    90006        2.0       3.00        46.50\n",
       "2    90007        1.5       3.25        76.37\n",
       "3    90010        2.0       3.50        51.37\n",
       "4    90012        2.4       3.50        76.49"
      ]
     },
     "execution_count": 28,
     "metadata": {},
     "output_type": "execute_result"
    }
   ],
   "source": [
    "#Join the weather suitability dataframe with restaurants\n",
    "res_weather = pd.merge(mean_price_stars_per_zipcode, weather_info, how='left', on='zipcode')\n",
    "res_weather[['zipcode','res_price','res_stars','suitability']].head()\n",
    "#take a look of the columns"
   ]
  },
  {
   "cell_type": "code",
   "execution_count": 29,
   "metadata": {},
   "outputs": [
    {
     "data": {
      "text/plain": [
       "-0.06952810392938515"
      ]
     },
     "execution_count": 29,
     "metadata": {},
     "output_type": "execute_result"
    },
    {
     "data": {
      "image/png": "[encoded data removed]",
      "text/plain": [
       "<Figure size 360x360 with 1 Axes>"
      ]
     },
     "metadata": {
      "needs_background": "light"
     },
     "output_type": "display_data"
    }
   ],
   "source": [
    "#Let's figure out the relationship between weather suitability and price\n",
    "sns.lmplot(x='res_price', y='suitability', data=res_weather, fit_reg=True)\n",
    "res_weather['res_price'].corr(res_weather['suitability'])"
   ]
  },
  {
   "cell_type": "code",
   "execution_count": 30,
   "metadata": {},
   "outputs": [
    {
     "data": {
      "text/plain": [
       "0.19121576329853507"
      ]
     },
     "execution_count": 30,
     "metadata": {},
     "output_type": "execute_result"
    },
    {
     "data": {
      "image/png": "[encoded data removed]",
      "text/plain": [
       "<Figure size 360x360 with 1 Axes>"
      ]
     },
     "metadata": {
      "needs_background": "light"
     },
     "output_type": "display_data"
    }
   ],
   "source": [
    "#Seems there is not correlation either...\n",
    "#How about with scores?\n",
    "sns.lmplot(x='res_stars', y='suitability', data=res_weather, fit_reg=True)\n",
    "res_weather['res_stars'].corr(res_weather['suitability'])"
   ]
  },
  {
   "cell_type": "code",
   "execution_count": null,
   "metadata": {},
   "outputs": [],
   "source": [
    "# R^2 is lower..\n",
    "# So far, based on previous analysis, the price and scores of restaurants in LA are not autocorrelated\n",
    "# Also, they are not related to tax or weather.\n",
    "# That means in LA county...\n",
    "# There is no evidence that restaurants with higher price levels must provide a better experience.\n",
    "# It cannot be assumed that the price will increase if the consumption tax becomes higher.\n",
    "# The weather will not influence how guests score the restaurants or how restaurants set the price.\n",
    "\n",
    "# Above is the conclusion of this analysis so far\n",
    "# It seems everything in my project has no relationship with each other...\n",
    "# But maybe I can provide some information when you are finding a restaurant for dinner in LA county...\n",
    "# So, I decide to aggregate the data sets"
   ]
  },
  {
   "cell_type": "code",
   "execution_count": 31,
   "metadata": {},
   "outputs": [
    {
     "data": {
      "text/html": [
       "<div>\n",
       "<style scoped>\n",
       "    .dataframe tbody tr th:only-of-type {\n",
       "        vertical-align: middle;\n",
       "    }\n",
       "\n",
       "    .dataframe tbody tr th {\n",
       "        vertical-align: top;\n",
       "    }\n",
       "\n",
       "    .dataframe thead th {\n",
       "        text-align: right;\n",
       "    }\n",
       "</style>\n",
       "<table border=\"1\" class=\"dataframe\">\n",
       "  <thead>\n",
       "    <tr style=\"text-align: right;\">\n",
       "      <th></th>\n",
       "      <th>res_name</th>\n",
       "      <th>res_streetaddress</th>\n",
       "      <th>res_locality</th>\n",
       "      <th>zipcode</th>\n",
       "      <th>res_price</th>\n",
       "      <th>res_stars</th>\n",
       "      <th>tax</th>\n",
       "      <th>combine-tax</th>\n",
       "      <th>weather</th>\n",
       "      <th>temperature</th>\n",
       "      <th>pressure</th>\n",
       "      <th>humidity</th>\n",
       "      <th>visibility</th>\n",
       "      <th>wind_speed</th>\n",
       "      <th>clouds</th>\n",
       "      <th>suitability</th>\n",
       "    </tr>\n",
       "  </thead>\n",
       "  <tbody>\n",
       "    <tr>\n",
       "      <th>0</th>\n",
       "      <td>Polo Lounge</td>\n",
       "      <td>9641 Sunset Boulevard</td>\n",
       "      <td>Beverly Hills</td>\n",
       "      <td>90210</td>\n",
       "      <td>2</td>\n",
       "      <td>3.0</td>\n",
       "      <td>['9.5% (Combined)', '6% (State)', '0.25% (Coun...</td>\n",
       "      <td>0.095</td>\n",
       "      <td>Mist</td>\n",
       "      <td>284.74</td>\n",
       "      <td>1021</td>\n",
       "      <td>93</td>\n",
       "      <td>2414</td>\n",
       "      <td>1.5</td>\n",
       "      <td>40</td>\n",
       "      <td>46.5</td>\n",
       "    </tr>\n",
       "    <tr>\n",
       "      <th>1</th>\n",
       "      <td>Amici</td>\n",
       "      <td>469 N. Doheny Drive</td>\n",
       "      <td>Beverly Hills</td>\n",
       "      <td>90210</td>\n",
       "      <td>2</td>\n",
       "      <td>3.5</td>\n",
       "      <td>['9.5% (Combined)', '6% (State)', '0.25% (Coun...</td>\n",
       "      <td>0.095</td>\n",
       "      <td>Mist</td>\n",
       "      <td>284.74</td>\n",
       "      <td>1021</td>\n",
       "      <td>93</td>\n",
       "      <td>2414</td>\n",
       "      <td>1.5</td>\n",
       "      <td>40</td>\n",
       "      <td>46.5</td>\n",
       "    </tr>\n",
       "    <tr>\n",
       "      <th>2</th>\n",
       "      <td>La Scala</td>\n",
       "      <td>434 North Canon Drive</td>\n",
       "      <td>Beverly Hills</td>\n",
       "      <td>90210</td>\n",
       "      <td>2</td>\n",
       "      <td>4.0</td>\n",
       "      <td>['9.5% (Combined)', '6% (State)', '0.25% (Coun...</td>\n",
       "      <td>0.095</td>\n",
       "      <td>Mist</td>\n",
       "      <td>284.74</td>\n",
       "      <td>1021</td>\n",
       "      <td>93</td>\n",
       "      <td>2414</td>\n",
       "      <td>1.5</td>\n",
       "      <td>40</td>\n",
       "      <td>46.5</td>\n",
       "    </tr>\n",
       "    <tr>\n",
       "      <th>3</th>\n",
       "      <td>Da Pasquale</td>\n",
       "      <td>9749 Santa Monica Boulevard</td>\n",
       "      <td>Beverly Hills</td>\n",
       "      <td>90210</td>\n",
       "      <td>2</td>\n",
       "      <td>3.5</td>\n",
       "      <td>['9.5% (Combined)', '6% (State)', '0.25% (Coun...</td>\n",
       "      <td>0.095</td>\n",
       "      <td>Mist</td>\n",
       "      <td>284.74</td>\n",
       "      <td>1021</td>\n",
       "      <td>93</td>\n",
       "      <td>2414</td>\n",
       "      <td>1.5</td>\n",
       "      <td>40</td>\n",
       "      <td>46.5</td>\n",
       "    </tr>\n",
       "    <tr>\n",
       "      <th>4</th>\n",
       "      <td>Matsuhisa</td>\n",
       "      <td>129 North La Cienega Blvd.</td>\n",
       "      <td>Beverly Hills</td>\n",
       "      <td>90211</td>\n",
       "      <td>4</td>\n",
       "      <td>4.0</td>\n",
       "      <td>['9.5% (Combined)', '6% (State)', '0.25% (Coun...</td>\n",
       "      <td>0.095</td>\n",
       "      <td>Mist</td>\n",
       "      <td>284.72</td>\n",
       "      <td>1021</td>\n",
       "      <td>93</td>\n",
       "      <td>2414</td>\n",
       "      <td>1.5</td>\n",
       "      <td>40</td>\n",
       "      <td>46.5</td>\n",
       "    </tr>\n",
       "  </tbody>\n",
       "</table>\n",
       "</div>"
      ],
      "text/plain": [
       "      res_name            res_streetaddress   res_locality  zipcode  \\\n",
       "0  Polo Lounge        9641 Sunset Boulevard  Beverly Hills    90210   \n",
       "1        Amici          469 N. Doheny Drive  Beverly Hills    90210   \n",
       "2     La Scala        434 North Canon Drive  Beverly Hills    90210   \n",
       "3  Da Pasquale  9749 Santa Monica Boulevard  Beverly Hills    90210   \n",
       "4    Matsuhisa   129 North La Cienega Blvd.  Beverly Hills    90211   \n",
       "\n",
       "   res_price  res_stars                                                tax  \\\n",
       "0          2        3.0  ['9.5% (Combined)', '6% (State)', '0.25% (Coun...   \n",
       "1          2        3.5  ['9.5% (Combined)', '6% (State)', '0.25% (Coun...   \n",
       "2          2        4.0  ['9.5% (Combined)', '6% (State)', '0.25% (Coun...   \n",
       "3          2        3.5  ['9.5% (Combined)', '6% (State)', '0.25% (Coun...   \n",
       "4          4        4.0  ['9.5% (Combined)', '6% (State)', '0.25% (Coun...   \n",
       "\n",
       "   combine-tax weather  temperature  pressure  humidity  visibility  \\\n",
       "0        0.095    Mist       284.74      1021        93        2414   \n",
       "1        0.095    Mist       284.74      1021        93        2414   \n",
       "2        0.095    Mist       284.74      1021        93        2414   \n",
       "3        0.095    Mist       284.74      1021        93        2414   \n",
       "4        0.095    Mist       284.72      1021        93        2414   \n",
       "\n",
       "   wind_speed  clouds  suitability  \n",
       "0         1.5      40         46.5  \n",
       "1         1.5      40         46.5  \n",
       "2         1.5      40         46.5  \n",
       "3         1.5      40         46.5  \n",
       "4         1.5      40         46.5  "
      ]
     },
     "execution_count": 31,
     "metadata": {},
     "output_type": "execute_result"
    }
   ],
   "source": [
    "final_data = pd.merge(res_info, tax_info, how='left', on='zipcode')\n",
    "final_data = pd.merge(final_data, weather_info, how='left', on='zipcode')\n",
    "final_data.head()\n",
    "#take a loof of the columns"
   ]
  },
  {
   "cell_type": "code",
   "execution_count": 32,
   "metadata": {},
   "outputs": [
    {
     "data": {
      "image/png": "[encoded data removed]",
      "text/plain": [
       "<Figure size 432x432 with 1 Axes>"
      ]
     },
     "metadata": {},
     "output_type": "display_data"
    }
   ],
   "source": [
    "#Let's do some statistical analysis\n",
    "# Take a loof of the pie chart based on price level\n",
    "price_pie = final_data['res_name'].groupby(final_data['res_price']).count().plot(kind='pie',figsize=(6,6))"
   ]
  },
  {
   "cell_type": "code",
   "execution_count": null,
   "metadata": {},
   "outputs": [],
   "source": [
    "Almost half of the restaurants in LA county are level 2 regarding price"
   ]
  },
  {
   "cell_type": "code",
   "execution_count": 33,
   "metadata": {},
   "outputs": [
    {
     "data": {
      "image/png": "[encoded data removed]",
      "text/plain": [
       "<Figure size 432x432 with 1 Axes>"
      ]
     },
     "metadata": {},
     "output_type": "display_data"
    }
   ],
   "source": [
    "# Take a took of the pie chart based on scores\n",
    "price_pie = final_data.groupby(final_data['res_stars'])['res_name'].count().plot(kind='pie',figsize=(6,6))"
   ]
  },
  {
   "cell_type": "code",
   "execution_count": null,
   "metadata": {},
   "outputs": [],
   "source": [
    "Most scores of the restaurants fall into the range from3.0 to 4.0.\n",
    "Few of them are scored highly or lowly."
   ]
  },
  {
   "cell_type": "code",
   "execution_count": 34,
   "metadata": {},
   "outputs": [
    {
     "data": {
      "image/png": "[encoded data removed]",
      "text/plain": [
       "<Figure size 432x288 with 1 Axes>"
      ]
     },
     "metadata": {
      "needs_background": "light"
     },
     "output_type": "display_data"
    }
   ],
   "source": [
    "#Take a look of the average weather suitability/tax of restaurants with different price/scores level\n",
    "#There shall be four bar chart totally\n",
    "weather_bar = final_data.groupby(final_data['res_stars'])['suitability'].mean().plot(kind='bar')"
   ]
  },
  {
   "cell_type": "code",
   "execution_count": 35,
   "metadata": {},
   "outputs": [
    {
     "data": {
      "image/png": "[encoded data removed]",
      "text/plain": [
       "<Figure size 432x288 with 1 Axes>"
      ]
     },
     "metadata": {
      "needs_background": "light"
     },
     "output_type": "display_data"
    }
   ],
   "source": [
    "weather_bar = final_data.groupby(final_data['res_stars'])['combine-tax'].mean().plot(kind='bar')"
   ]
  },
  {
   "cell_type": "code",
   "execution_count": 36,
   "metadata": {},
   "outputs": [
    {
     "data": {
      "image/png": "[encoded data removed]",
      "text/plain": [
       "<Figure size 432x288 with 1 Axes>"
      ]
     },
     "metadata": {
      "needs_background": "light"
     },
     "output_type": "display_data"
    }
   ],
   "source": [
    "weather_bar = final_data.groupby(final_data['res_price'])['suitability'].mean().plot(kind='bar')"
   ]
  },
  {
   "cell_type": "code",
   "execution_count": 37,
   "metadata": {},
   "outputs": [
    {
     "data": {
      "image/png": "[encoded data removed]",
      "text/plain": [
       "<Figure size 432x288 with 1 Axes>"
      ]
     },
     "metadata": {
      "needs_background": "light"
     },
     "output_type": "display_data"
    }
   ],
   "source": [
    "weather_bar = final_data.groupby(final_data['res_price'])['combine-tax'].mean().plot(kind='bar')"
   ]
  },
  {
   "cell_type": "code",
   "execution_count": null,
   "metadata": {},
   "outputs": [],
   "source": [
    "So, now I find the reason why weather and tax dont influence the price of scores of restaurants.\n",
    "According to the figure, \n",
    "the average level of weather suitability and taxes at different levels of price and score are similar.\n",
    "So the change in these two factors is a slight change relative to the price and the score.\n",
    "That makes sense, because the change of tax and weather over space within a county cannot be very significant.\n",
    "But this project used data to confirm this point."
   ]
  }
 ],
 "metadata": {
  "kernelspec": {
   "display_name": "Python 3",
   "language": "python",
   "name": "python3"
  },
  "language_info": {
   "codemirror_mode": {
    "name": "ipython",
    "version": 3
   },
   "file_extension": ".py",
   "mimetype": "text/x-python",
   "name": "python",
   "nbconvert_exporter": "python",
   "pygments_lexer": "ipython3",
   "version": "3.7.3"
  }
 },
 "nbformat": 4,
 "nbformat_minor": 4
}
